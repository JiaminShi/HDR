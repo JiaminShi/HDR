{
 "cells": [
  {
   "cell_type": "markdown",
   "metadata": {},
   "source": [
    "# title of the project \n",
    "## a list of author(s) names,\n"
   ]
  },
  {
   "cell_type": "markdown",
   "metadata": {},
   "source": [
    "## Abstract\n",
    "a few short sentences highlighting the main points of the project"
   ]
  },
  {
   "cell_type": "markdown",
   "metadata": {},
   "source": [
    "## Introduction\n",
    "(3-4 paragraphs) reviewing your topic, related technical ideas/algorithms, your selected methodology/approach, its motivation, and outlining the overall structure/organization of the report. \n"
   ]
  },
  {
   "cell_type": "markdown",
   "metadata": {},
   "source": [
    "## Contributions"
   ]
  },
  {
   "cell_type": "markdown",
   "metadata": {},
   "source": [
    "## Methods\n",
    "### 1. Estimate the radiometric response function from the aligned images\n",
    "\n",
    "Estimate irradiance values $E_i$ and the radiometric response function $f$ at the same time. \n",
    "\n",
    "$$z_{ij} = f(E_it_j)$$ where $t_j$ is the exposure time for the $j$th image. \n",
    "\n",
    "The inverse response curve $f^{−1}$ is given by\n",
    "$$f^{−1}(z_{ij}) = E_i t_j$$\n",
    "\n",
    "Taking logarithms of both sides \n",
    "$$g(z_{ij})=\\log f^{-1}(z_{ij})=\\log E_i +\\log t_j$$\n",
    " ($g$ maps pixel values $z_{ij}$ into log irradiance)\n",
    " \n"
   ]
  },
  {
   "cell_type": "markdown",
   "metadata": {},
   "source": [
    "Also, we need make the reponse curve smooth by adding a second-order smoothness constraint\n",
    "$$\\lambda\\sum_k g''(k)^2 = \\lambda\\sum[g(k-1) - 2g(k)+ g(k+1)]^2$$\n",
    "\n",
    "Since pixel values are more reliable in the middile of their range, they also add a weight function\n",
    "$$ w(z)=\\left\\{\n",
    "\\begin{aligned}\n",
    "z-z_{min} & &  z \\le (z_{min}+z_{max})/2 \\\\\n",
    "z_{max}-z & & z \\gt (z_{min}+z_{max})/2 \\\\\n",
    "\\end{aligned}\n",
    "\\right.\n",
    "$$"
   ]
  },
  {
   "cell_type": "markdown",
   "metadata": {},
   "source": [
    "Put all together we get a least squares problem to estimate the radiometric response function $g$ and irradiance values $E_i$\n",
    "\n",
    "$$E = \\sum_i\\sum_jw(z_{i,j})[g(z_{i,j}) - \\log E_i - \\log t_j]^2 + \\lambda\\sum_k g''(k)^2$$\n",
    "\n",
    "In other word, we are solve the two equations \n",
    "$$ w(z_{i,j}) g(z_{i,j}) - w(z_{i,j}) \\log E_i  = w(z_{i,j}) \\log t_j $$ \n",
    "$$\\lambda[g(z_{i,j}-1) - 2g(z_{i,j})+ g(z_{i,j}+1)] = 0$$\n",
    "together\n"
   ]
  },
  {
   "cell_type": "markdown",
   "metadata": {},
   "source": [
    "#### Assume that $t_j$ is known\n",
    "\n",
    "The response value $g_k = g(k)$, where g can be discretized according to the 256 pixel values commonly observed in eight-bit images. (The response curves are calibrated separately for each color channel.)"
   ]
  },
  {
   "cell_type": "code",
   "execution_count": 4,
   "metadata": {},
   "outputs": [],
   "source": [
    "import numpy as np"
   ]
  },
  {
   "cell_type": "code",
   "execution_count": 1,
   "metadata": {},
   "outputs": [],
   "source": [
    "'''\n",
    "Modified from gsolve.m matlab version\n",
    "\n",
    "Solve for imaging system response function\n",
    "\n",
    "Given a set of pixel values observed for several pixels in several\n",
    "images with different exposure times, this function returns the\n",
    "imaging system’s response function\n",
    "\n",
    "\n",
    "Z(i,j): the pixel values of pixel location number i in image j\n",
    "\n",
    "B(j): the log delta t, or log shutter speed, for image j\n",
    "\n",
    "l: lamdba, the constant that determines the amount of smoothness\n",
    "\n",
    "w(z): the weighting function value for pixel value z\n",
    "\n",
    "'''\n",
    "zmin = 0.\n",
    "zmax = 255.\n",
    "\n",
    "def weight_hat(z):\n",
    "    return min(z-zmin, zmax-z)\n",
    "\n",
    "def gsolve(Z, B, lmd, w=weight_hat):\n",
    "\n",
    "    locations = Z.shape[0]\n",
    "    sequences = Z.shape[1]\n",
    "    n = 256  # [0, 255]\n",
    "    A = np.zeros((locations * sequences + n - 1, locations + n), dtype=float)\n",
    "    b = np.zeros(A.shape[0], dtype=float)\n",
    "\n",
    "    #  Include the data−fitting equations\n",
    "    k = 0\n",
    "    for i in range(locations):\n",
    "        for j in range(sequences):\n",
    "            wij = w(Z[i, j])\n",
    "            A[k, int(Z[i, j])] = wij\n",
    "            A[k, n + i] = -wij\n",
    "            b[k] = wij * B[j]\n",
    "            k += 1\n",
    "\n",
    "    # Fix the curve by setting its middle value to 0, i.e. g(128) = 0    \n",
    "    A[k, 128] = 1   \n",
    "    k += 1\n",
    "\n",
    "    # Include the smoothness equations\n",
    "    for i in range(n-2):\n",
    "        wi = w(i)\n",
    "        A[k, i] = lmd * wi\n",
    "        A[k, i+1] = -2 * lmd * wi\n",
    "        A[k, i+2] = lmd * wi\n",
    "        k += 1\n",
    "\n",
    "    # Solve the system\n",
    "    x = np.linalg.lstsq(A, b)[0]\n",
    "    g = x[:n]\n",
    "    lnE = x[n:]\n",
    "\n",
    "    return (g, lnE)"
   ]
  },
  {
   "cell_type": "markdown",
   "metadata": {},
   "source": [
    "(Note: we need to call $gsolve$ 3 times for R,G,B)\n",
    "\n",
    "#### Sample\n",
    "\n",
    "Question: how do we sample the pixel value $z_{ij}$? What is the sample ratio?\n",
    "\n",
    "For $N$ sample pixels in each image and $P$ images, we need $N \\times P > (Z_{max} -Z_{min}) + N$ (i.e. number of given parameters is greater than number of unknowns)\n",
    "\n",
    "Suppose we have 3 images, $2N > 255$, $N > 128 $ should be sufficient.\n",
    "\n",
    "- random select k pixels for each pixel value ([0,255])?\n",
    "\n",
    "- sample based per grid? (i.e. img[::k, ::k, 0])?\n",
    "\n"
   ]
  },
  {
   "cell_type": "code",
   "execution_count": null,
   "metadata": {},
   "outputs": [],
   "source": [
    "'''\n",
    "Some Sample function here\n",
    "'''"
   ]
  },
  {
   "cell_type": "markdown",
   "metadata": {},
   "source": [
    "### Print the log response function and result image\n",
    "\n",
    "Once we have the sample ($z$) and reponse function $g$, we could use it to print figure like 10.13\n",
    "\n",
    "If the images are noise free, we can use any non-saturated pixel value to estimate the corresponding radiance by mapping it through the inverse response curve $E = g(z)$.\n",
    "\n",
    "Debevec and Malik (1997) use a hat function (10.7) which accentuates mid-tone pixels while avoiding saturated values."
   ]
  },
  {
   "cell_type": "markdown",
   "metadata": {},
   "source": [
    "### 2. Estimate a radiance map by selecting of blending pixels from different exposures"
   ]
  },
  {
   "cell_type": "markdown",
   "metadata": {},
   "source": [
    "(Copy from the book directlt lol, need to be reformated later)\n",
    "\n",
    "Unfortunately, pixels are noisy, especially under low-light conditions when fewer photons arrive at the sensor. \n",
    "\n",
    "Mitsunaga and Nayar (1999) show that in order to maximize the signal-to-noise ratio (SNR), the weighting function must emphasize both higher pixel values and larger gradients in the transfer function\n",
    "$$\n",
    "w(z)=g(z)/g'(z)\n",
    "$$\n",
    "\n",
    "\n",
    "the weights $w$ are used to form the final irradiance estimate\n",
    "\n",
    "$$\n",
    "\\log E_i = \\frac{\\sum_j w(z_{ij})[g(z_{ij})-\\log t_j]}{\\sum_j w(z_{ij})}\n",
    "$$"
   ]
  },
  {
   "cell_type": "code",
   "execution_count": null,
   "metadata": {},
   "outputs": [],
   "source": []
  },
  {
   "cell_type": "markdown",
   "metadata": {},
   "source": [
    "### 3. Tone map the resulting high dynamic range (HDR) image back into a displayable gamut"
   ]
  },
  {
   "cell_type": "markdown",
   "metadata": {},
   "source": [
    "It is usually necessary to display the HDR image on a lower gamut screen.\n",
    "\n",
    "1. Global Transfer Curve (i.e Gamma Curve) (Larson, Rushmeier, and Pattanaik 2005)\n",
    "    - If Gamma curve is applied seperate to each channel, then the color is less saturated \n",
    "    - If Gamma curve is applied to the luminance channel, then result is better. (the image is splited up into luminance and chrominance components $L*a*b$\n",
    "2. If the image has wide range of exposures, we can divide each pixel by the average brightness in a region around it, like dodging and burning."
   ]
  },
  {
   "cell_type": "markdown",
   "metadata": {},
   "source": [
    "asasd"
   ]
  },
  {
   "cell_type": "markdown",
   "metadata": {},
   "source": [
    "## Extentions\n",
    "-  multi-exposure images taken without a tripod using homography-based registration of the sequence\n",
    "    - \n",
    "- drop the assumption that exposure is known\n",
    "\n",
    "(both are metioned in the book)"
   ]
  },
  {
   "cell_type": "markdown",
   "metadata": {},
   "source": [
    "## Conclusions \n",
    "(2-4 paragraphs) summarizing your observations, results, etc.\n",
    "\n",
    "1. Take a series of bracketed images with camera on a tripod (AEB mode)\n",
    "2. Global alignment\n",
    "3. Estimate radiometric response function\n",
    "4. Estimate HDR radiance imgae by selecting / blending pixels from different exposure"
   ]
  },
  {
   "cell_type": "code",
   "execution_count": null,
   "metadata": {},
   "outputs": [],
   "source": []
  }
 ],
 "metadata": {
  "kernelspec": {
   "display_name": "Python 3",
   "language": "python",
   "name": "python3"
  },
  "language_info": {
   "codemirror_mode": {
    "name": "ipython",
    "version": 3
   },
   "file_extension": ".py",
   "mimetype": "text/x-python",
   "name": "python",
   "nbconvert_exporter": "python",
   "pygments_lexer": "ipython3",
   "version": "3.7.4"
  }
 },
 "nbformat": 4,
 "nbformat_minor": 2
}
