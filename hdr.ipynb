{
 "cells": [
  {
   "cell_type": "markdown",
   "metadata": {},
   "source": [
    "# title of the project \n",
    "## a list of author(s) names,\n"
   ]
  },
  {
   "cell_type": "markdown",
   "metadata": {},
   "source": [
    "## Abstract\n",
    "a few short sentences highlighting the main points of the project"
   ]
  },
  {
   "cell_type": "markdown",
   "metadata": {},
   "source": [
    "## Introduction\n",
    "(3-4 paragraphs) reviewing your topic, related technical ideas/algorithms, your selected methodology/approach, its motivation, and outlining the overall structure/organization of the report. \n"
   ]
  },
  {
   "cell_type": "markdown",
   "metadata": {},
   "source": [
    "## Contributions"
   ]
  },
  {
   "cell_type": "markdown",
   "metadata": {},
   "source": [
    "## Methods\n",
    "### 1. Estimate the radiometric response function from the aligned images\n",
    "\n",
    "Estimate irradiance values $E_i$ and the radiometric response function $f$ at the same time. \n",
    "\n",
    "$$z_{ij} = f(E_it_j)$$ where $t_j$ is the exposure time for the $j$th image. \n",
    "\n",
    "The inverse response curve $f^{−1}$ is given by\n",
    "$$f^{−1}(z_{ij}) = E_i t_j$$\n",
    "\n",
    "Taking logarithms of both sides \n",
    "$$g(z_{ij})=\\log f^{-1}(z_{ij})=\\log E_i +\\log t_j$$\n",
    " ($g$ maps pixel values $z_{ij}$ into log irradiance)\n",
    " \n"
   ]
  },
  {
   "cell_type": "markdown",
   "metadata": {},
   "source": [
    "Also, we need make the reponse curve smooth by adding a second-order smoothness constraint\n",
    "$$\\lambda\\sum_k g''(k)^2 = \\lambda\\sum[g(k-1) - 2g(k)+ g(k+1)]^2$$\n",
    "\n",
    "Since pixel values are more reliable in the middile of their range, they also add a weight function\n",
    "$$ w(z)=\\left\\{\n",
    "\\begin{aligned}\n",
    "z-z_{min} & &  z \\le (z_{min}+z_{max})/2 \\\\\n",
    "z_{max}-z & & z \\gt (z_{min}+z_{max})/2 \\\\\n",
    "\\end{aligned}\n",
    "\\right.\n",
    "$$"
   ]
  },
  {
   "cell_type": "markdown",
   "metadata": {},
   "source": [
    "Put all together we get a least squares problem to estimate the radiometric response function and irradiance values $E_i$\n",
    "\n",
    "$$ w(z_{i,j}) g(z_{i,j}) - w(z_{i,j}) \\log E_i  = w(z_{i,j}) \\log t_j $$ to get $g(z_{i,j})$ "
   ]
  },
  {
   "cell_type": "markdown",
   "metadata": {},
   "source": [
    "#### Assume that $t_j$ is known\n",
    "\n",
    "The response value $g_k = g(k)$, where g can be discretized according to the 256 pixel values commonly observed in eight-bit images. (The response curves are calibrated separately for each color channel.)"
   ]
  },
  {
   "cell_type": "code",
   "execution_count": null,
   "metadata": {},
   "outputs": [],
   "source": [
    "import numpy as np\n"
   ]
  },
  {
   "cell_type": "code",
   "execution_count": 2,
   "metadata": {},
   "outputs": [],
   "source": [
    "'''\n",
    "Modified from gsolve.m\n",
    "\n",
    "Solve for imaging system response function\n",
    "\n",
    "Given a set of pixel values observed for several pixels in several\n",
    "images with different exposure times, this function returns the\n",
    "imaging system’s response function\n",
    "\n",
    "\n",
    "Z(i,j): the pixel values of pixel location number i in image j\n",
    "\n",
    "B(j): the log delta t, or log shutter speed, for image j\n",
    "\n",
    "l: lamdba, the constant that determines the amount of smoothness\n",
    "\n",
    "w(z): the weighting function value for pixel value z\n",
    "\n",
    "'''\n",
    "zmin = 0.\n",
    "zmax = 255.\n",
    "\n",
    "def weight_hat(z):\n",
    "    return min(z-zmin, zmax-z)\n",
    "\n",
    "def gsolve(Z, B, lmd, w=weight_hat):\n",
    "\n",
    "    rows = Z.shape[0]\n",
    "    cols = Z.shape[1]\n",
    "    n = 256  # [0, 255]\n",
    "    A = np.zeros((rows * cols + n - 1, n + rows), dtype=float)\n",
    "    b = np.zeros(A.shape[0], dtype=float)\n",
    "\n",
    "    k = 0\n",
    "    for i in range(rows):\n",
    "        for j in range(cols):\n",
    "            wij = w(Z[i, j])\n",
    "            A[k, int(Z[i, j])] = wij\n",
    "            A[k, n + i] = -wij\n",
    "            b[k] = wij * B[j]\n",
    "            k += 1\n",
    "\n",
    "    # Fix the curve by setting its middle value to 0\n",
    "    \n",
    "    A[k, 128] = 1   \n",
    "    k += 1\n",
    "\n",
    "    for i in range(n-2):\n",
    "        wi = w(i)\n",
    "        A[k, i] = lmd * wi\n",
    "        A[k, i+1] = -2 * lmd * wi\n",
    "        A[k, i+2] = lmd * wi\n",
    "        k += 1\n",
    "\n",
    "    x, _, _, _ = np.linalg.lstsq(A, b)\n",
    "    g = x[:n]\n",
    "    lnE = x[n:]\n",
    "\n",
    "    return (g, lnE)"
   ]
  },
  {
   "cell_type": "markdown",
   "metadata": {},
   "source": [
    "\n",
    "\n",
    "Question: how do we sample the pixel value $z_{ij}$? \n",
    "- random select one pixel for each pixel value?\n",
    "- "
   ]
  },
  {
   "cell_type": "code",
   "execution_count": null,
   "metadata": {},
   "outputs": [],
   "source": []
  },
  {
   "cell_type": "markdown",
   "metadata": {},
   "source": [
    "### 2. Estimate a radiance map by selecting of blending pixels from different exposures"
   ]
  },
  {
   "cell_type": "code",
   "execution_count": null,
   "metadata": {},
   "outputs": [],
   "source": []
  },
  {
   "cell_type": "markdown",
   "metadata": {},
   "source": [
    "### 3. Tone map the resulting high dynamic range (HDR) image back into a displayable gamut"
   ]
  },
  {
   "cell_type": "markdown",
   "metadata": {},
   "source": [
    "## Conclusions \n",
    "(2-4 paragraphs) summarizing your observations, results, etc."
   ]
  },
  {
   "cell_type": "code",
   "execution_count": null,
   "metadata": {},
   "outputs": [],
   "source": []
  }
 ],
 "metadata": {
  "kernelspec": {
   "display_name": "Python 3",
   "language": "python",
   "name": "python3"
  },
  "language_info": {
   "codemirror_mode": {
    "name": "ipython",
    "version": 3
   },
   "file_extension": ".py",
   "mimetype": "text/x-python",
   "name": "python",
   "nbconvert_exporter": "python",
   "pygments_lexer": "ipython3",
   "version": "3.7.4"
  }
 },
 "nbformat": 4,
 "nbformat_minor": 2
}
